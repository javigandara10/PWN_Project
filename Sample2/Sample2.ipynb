{
 "cells": [
  {
   "cell_type": "code",
   "execution_count": null,
   "metadata": {},
   "outputs": [],
   "source": [
    "# Here we will center on an energy density study of our Sample 2 of young pulsars. We also \n",
    "# checked them individually in the TeVCat Catalogue to see if they have TeV PWNe detected \n",
    "# firmly identified, possible candidates, or not TeV detected."
   ]
  },
  {
   "cell_type": "code",
   "execution_count": 1,
   "metadata": {},
   "outputs": [
    {
     "name": "stdout",
     "output_type": "stream",
     "text": [
      "Data charged\n"
     ]
    }
   ],
   "source": [
    "import matplotlib.pyplot as plt\n",
    "import matplotlib.mlab as mlab\n",
    "import numpy as np\n",
    "\n",
    "%matplotlib inline\n",
    "\n",
    "# Function which returns tau0 from Equation 2.3 of the report\n",
    "def ftau0(tau,P,Pzero):\n",
    "    return tau*(Pzero/P)**2\n",
    "\n",
    "# Function which returns Edot0 from Equation 2.2 of the report\n",
    "def fEdot(Edott,tt,ttau0):\n",
    "    return Edott*(1 + tt/ttau0)**(2)\n",
    "\n",
    "# Radius evolution period for young pulsars from Equations 1.4 and 1.5\n",
    "def fcalcR(Edot0,tau0,t):\n",
    "    if t <= tau0:\n",
    "        return 1.1 * ( Edot0/(10**38) )**(0.2) * (t/(10**3))**(1.2)\n",
    "    elif t > tau0:\n",
    "        return 1.1 * (Edot0/(10**38))**(0.2) * (tau0/(10**3))**(1.2) * (1/tau0) * t\n",
    "\n",
    "# We charge Sample 2 from our text file from ATNF catalogue\n",
    "data = np.genfromtxt('Ageless7kyrwithperiodnolabels.txt', dtype=np.str)\n",
    "Edot = data.T[24].astype(np.float)# Array of Edot in erg / s\n",
    "tau = data.T[22].astype(np.float) # Array of characteristic age (tau) in yr \n",
    "distance = data.T[20].astype(np.float) # Array of distance in kpc!!\n",
    "Pdot = data.T[16].astype(np.float) # Array of Pdot in seconds / seconds\n",
    "P = data.T[12].astype(np.float) # Array of P in seconds\n",
    "names = data.T[2].astype(np.str) # Array of names\n",
    "\n",
    "distance = distance * 10**3 # Convert distance to parsecs\n",
    "\n",
    "#We first obtain Edot and tau0 for each pulsar\n",
    "N = len(Edot)\n",
    "tau0 = np.zeros(N)\n",
    "Edot0 = np.zeros(N)\n",
    "numbers = range(0,N)\n",
    "for n in numbers:\n",
    "    # We obtain tau0 and Edot0 for each pulsar\n",
    "    tau0[n]=ftau0(tau[n], P[n], 0.03) # Assuming P0=30 ms\n",
    "    Edot0[n]=fEdot(Edot[n], tau[n], tau0[n])\n",
    "\n",
    "epsilon = np.zeros(N) # Future array of energy density\n",
    "epsilon2 = np.zeros(N) # Future array of energy density over distance square\n",
    "currentradius = np.zeros(N) # Future array of radius\n",
    "# We obtain energy density\n",
    "for i in numbers:\n",
    "    # Obtain radius in cm to obtain volume in cm3 (energy density in eV/cm3)\n",
    "    currentradius[i] = fcalcR(Edot0[i], tau0[i], tau[i])*3.086*10**18 # in cm!\n",
    "    Vol = 4/3*np.pi*currentradius[i]**3 # in cm3!\n",
    "    # Units: erg / s * yr /cm3... Must convert erg to eV and years to seconds\n",
    "    epsilon[i] = Edot[i]*tau[i]*3600*24*365*6.242*10**11/Vol # in eV/cm3! \n",
    "    epsilon2[i] = epsilon[i]/distance[i]**2 \n",
    "currentradius = currentradius/(3.086*10**18) # Convert radius back to pc\n",
    "print('Data charged')"
   ]
  },
  {
   "cell_type": "code",
   "execution_count": 3,
   "metadata": {},
   "outputs": [
    {
     "name": "stdout",
     "output_type": "stream",
     "text": [
      "\n",
      " X axis: \n",
      " [2.95857988e+26 2.40784780e+29 2.35307622e+26 1.12500000e+32\n",
      " 6.25000000e+27 8.78099174e+29 3.25963719e+28 6.07265322e+28\n",
      " 6.91358025e+25 4.80000000e+29 2.44897959e+29 2.70665129e+28\n",
      " 1.88706634e+26 1.07421875e+25 2.54252959e+30 2.02260559e+30\n",
      " 1.98373339e+29 6.48962565e+29 2.63671875e+30 2.53508375e+30\n",
      " 3.92807140e+23]\n",
      "\n",
      " X axis mean 5.955023573945419e+30\n",
      "\n",
      " Y axis: \n",
      " [2.34413610e-07 1.68292502e-05 8.38743711e-09 1.29932136e-03\n",
      " 1.20475831e-07 1.31711374e-05 4.73207094e-07 5.61134701e-07\n",
      " 3.61585070e-10 2.09011825e-06 1.01716306e-06 8.80672600e-08\n",
      " 6.12381031e-10 1.92475811e-11 4.13464901e-06 2.49126610e-06\n",
      " 1.07007510e-07 6.15756722e-07 2.73322567e-06 1.94021531e-06\n",
      " 3.27959778e-13]\n",
      "\n",
      " Y axis mean 6.409227741248148e-05\n",
      "\n",
      " Distances: \n",
      " [13000.  5800. 13200.  2000.  4000.  4400.  8400. 49700.  9000.  5000.\n",
      "  7000. 12750.  8300.  9600.  2080.  4100. 49700.  8140.  3200.  4700.\n",
      " 59700.]\n",
      "\n",
      " Characteristic age: \n",
      " [ 218.  728. 1030. 1260. 1410. 1560. 1610. 1670. 2680. 2850. 2890. 3350.\n",
      " 3400. 4570. 4600. 4850. 4930. 5310. 5370. 5600. 6760.]\n",
      "\n",
      " Logarithm Etotal: \n",
      " [34.69897    36.90848502 34.61278386 38.65321251 35.         37.23044892\n",
      " 36.36172784 38.17609126 33.74818803 37.07918125 37.07918125 36.64345268\n",
      " 34.11394335 32.99563519 37.04139269 37.53147892 38.69019608 37.63346846\n",
      " 37.43136376 37.74818803 33.14612804]\n",
      "\n",
      " From the values above, we can compare them with Table 1 from HESS population paper and conclude:\n",
      "J1833-1034 is number 15\n",
      "J1813-1749 is number 19\n",
      "J1930+1852 is number 10\n",
      "J1846-0258 is number 1\n",
      "J1513-5908, named J1514-591 too, is number 5\n",
      "J1119-6127 is number 6\n",
      "J0537-6910 (N157B) is number 16\n",
      "J0534-3810 (Crab Nebula) is number 3\n",
      "J1747-2809 (G0.9+0.1) is number 17\n",
      "J0205+6449 (3C 58) is number 18\n"
     ]
    },
    {
     "data": {
      "image/png": "[encoded data removed]",
      "text/plain": [
       "<Figure size 864x432 with 1 Axes>"
      ]
     },
     "metadata": {
      "needs_background": "light"
     },
     "output_type": "display_data"
    }
   ],
   "source": [
    "# Here we make a first plot with just the data\n",
    "ejey = np.zeros(N)\n",
    "ejex = np.zeros(N)\n",
    "LogE = np.zeros(N)\n",
    "Logep = np.zeros(N)\n",
    "for i in numbers:\n",
    "    ejex[i] = Edot[i]/distance[i]**2\n",
    "    ejey[i] = epsilon2[i]\n",
    "    LogE[i] = np.log10(Edot[i])\n",
    "    Logep[i] = np.log10(epsilon[i])\n",
    "# WE FIRST NORMALISE THE PLOT\n",
    "maxy = max(ejey) # Normalisation of y axis (it's Crab value)\n",
    "maxx = max(ejex) # Normalisation of x axis (it's Crab value)\n",
    "newejey = np.zeros(N)\n",
    "newejex = np.zeros(N)\n",
    "# OBTAIN NORMALISE AXIS\n",
    "for i in numbers:\n",
    "    newejex[i] = ejex[i]/maxx\n",
    "    newejey[i] = ejey[i]/maxy\n",
    "\n",
    "plt.rcParams['figure.figsize'] = (12, 6)\n",
    "plt.loglog(newejex, newejey,'*')\n",
    "plt.title('Plot of Energy density over distance square against Edot over distance square')\n",
    "plt.ylabel('energy/d2')\n",
    "plt.xlabel('Edot/d2')\n",
    "\n",
    "\n",
    "plt.grid(True)\n",
    "#plt.show()\n",
    "\n",
    "# First conclusions about the plot\n",
    "print('\\n X axis: \\n', ejex)\n",
    "print('\\n X axis mean', np.mean(ejex))\n",
    "print('\\n Y axis: \\n', ejey)\n",
    "print('\\n Y axis mean', np.mean(ejey))\n",
    "print('\\n Distances: \\n', distance)\n",
    "print('\\n Characteristic age: \\n', tau)\n",
    "print('\\n Logarithm Etotal: \\n', LogE)\n",
    "\n",
    "print('\\n From the values above, we can compare them with Table 1 from HESS population paper and conclude:')\n",
    "print('J1833-1034 is number 15')\n",
    "print('J1813-1749 is number 19')\n",
    "print('J1930+1852 is number 10')\n",
    "print('J1846-0258 is number 1')\n",
    "print('J1513-5908, named J1514-591 too, is number 5')\n",
    "print('J1119-6127 is number 6')\n",
    "print('J0537-6910 (N157B) is number 16')\n",
    "print('J0534-3810 (Crab Nebula) is number 3')\n",
    "print('J1747-2809 (G0.9+0.1) is number 17')\n",
    "print('J0205+6449 (3C 58) is number 18')\n"
   ]
  },
  {
   "cell_type": "code",
   "execution_count": null,
   "metadata": {},
   "outputs": [],
   "source": []
  },
  {
   "cell_type": "code",
   "execution_count": 6,
   "metadata": {},
   "outputs": [
    {
     "name": "stdout",
     "output_type": "stream",
     "text": [
      "['J1846-0258' 'J0534+2200' 'J1119-6127' 'J1930+1852' 'J1640-4631'\n",
      " 'J1023-5746' 'J1833-1034' 'J0537-6910' 'J1747-2809' 'J0205+6449'\n",
      " 'J1813-1749']\n",
      "[3.36930038e-04 2.67973856e-04 7.11764706e-03 1.00000000e+00\n",
      " 6.91568038e-02 7.87334786e-05 5.46635294e-01 2.14903555e-04\n",
      " 1.22334559e-05 4.47338014e-07] [1.77975223e-02 6.36804315e-04 9.14695726e-03 1.00000000e+00\n",
      " 4.26033596e-02 2.74528357e-05 1.58689276e-01 4.64941648e-05\n",
      " 1.46134540e-06 2.48998829e-08]\n"
     ]
    },
    {
     "data": {
      "image/png": "[encoded data removed]",
      "text/plain": [
       "<Figure size 720x432 with 1 Axes>"
      ]
     },
     "metadata": {
      "needs_background": "light"
     },
     "output_type": "display_data"
    },
    {
     "name": "stdout",
     "output_type": "stream",
     "text": [
      "The correlation matrix is: \n",
      " [[1.        0.9627962]\n",
      " [0.9627962 1.       ]]\n",
      "0 J1808-2024 0.0021403091557669444 0.012952338621969074 5e+34 13000.0\n",
      "2 J1714-3810 0.000289745527840766 0.0003641955793120232 4.1e+34 13200.0\n",
      "4 J1550-5418 0.00024059122559699265 6.777942925125954e-05 1e+35 4000.0\n",
      "5 J1513-5908 0.022600262984878373 0.003182160431249746 1.7e+37 4400.0\n",
      "7 J0540-6919 0.001763318565540347 8.235646189737539e-05 1.5e+38 49700.0\n",
      "8 J1050-5953 0.005768556137106504 0.00047390641207648373 5.6e+33 9000.0\n",
      "9 J1124-5916 0.0234375 0.0021035794245066798 1.2e+37 5000.0\n",
      "12 J1745-2900 0.0002679738562091503 0.0006368043149789476 1.3e+34 8300.0\n",
      "13 J1841-0456 0.007117647058823529 0.009146957257483922 9.9e+32 9600.0\n",
      "20 J0100-7211 4.473380136799213e-07 2.4899882891124132e-08 1.4e+33 59700.0\n",
      "[1, 3, 6, 10, 11, 14, 15, 16, 17, 18, 19]\n",
      "21\n",
      "[2.14030916e-03 1.00000000e+00 2.89745528e-04 2.17687075e-03\n",
      " 2.40591226e-04 2.26002630e-02 1.79787164e-02 1.76331857e-03\n",
      " 5.76855614e-03 2.34375000e-02 2.25340778e-02 3.36930038e-04\n",
      " 2.67973856e-04 7.11764706e-03 1.00000000e+00 6.91568038e-02\n",
      " 7.87334786e-05 5.46635294e-01 2.14903555e-04 1.22334559e-05\n",
      " 4.47338014e-07]\n",
      "[1.29523386e-02 1.00000000e+00 3.64195579e-04 7.82841789e-04\n",
      " 6.77794293e-05 3.18216043e-03 1.91735946e-03 8.23564619e-05\n",
      " 4.73906412e-04 2.10357942e-03 1.49325284e-03 1.77975223e-02\n",
      " 6.36804315e-04 9.14695726e-03 1.00000000e+00 4.26033596e-02\n",
      " 2.74528357e-05 1.58689276e-01 4.64941648e-05 1.46134540e-06\n",
      " 2.48998829e-08]\n"
     ]
    }
   ],
   "source": [
    "# Here we divide pulsars according to the TeV detection selection\n",
    "# To see which pulsars are the one from the paper\n",
    "ejey1 = []\n",
    "ejex1 = []\n",
    "ejex2 = []\n",
    "ejey2 = []\n",
    "known = [1, 3, 6, 10, 11, 14, 15, 16, 17, 18, 19] # checked one by one\n",
    "for i in numbers:\n",
    "    if i in known:\n",
    "        ejex1 = ejex1 + [Edot[i]/distance[i]**2]\n",
    "        ejey1 = ejey1 + [epsilon2[i]]\n",
    "    else:\n",
    "        ejex2 = ejex2 + [Edot[i]/distance[i]**2]\n",
    "        ejey2 = ejey2 + [epsilon2[i]]\n",
    "print(names[known])\n",
    "# NORMALISED PLOT \n",
    "maxy1 = max(ejey1)\n",
    "maxx1 = max(ejex1)\n",
    "maxx2 = max(ejex2)\n",
    "maxy2 = max(ejey2)\n",
    "\n",
    "newejey1 = np.zeros(len(ejey1))\n",
    "newejex1 = np.zeros(len(ejex1))\n",
    "newejey2 = np.zeros(len(ejey2))\n",
    "newejex2 = np.zeros(len(ejex2))\n",
    "\n",
    "for j in range(0,len(ejey1)):\n",
    "    newejex1[j] = ejex1[j]/maxx1\n",
    "    newejey1[j] = ejey1[j]/maxy1\n",
    "\n",
    "for l in range(0,len(ejey2)):\n",
    "    newejex2[l] = ejex2[l]/maxx2\n",
    "    newejey2[l] = ejey2[l]/maxy2\n",
    "               \n",
    "\n",
    "x1 = np.linspace(10**(-7),1,50)\n",
    "plt.rcParams['figure.figsize'] = (10, 6)\n",
    "#plt.loglog(ejey, ejex,'*')\n",
    "plt.loglog(newejex1, newejey1,'*',label='Pulsars with TeV PWN')\n",
    "plt.loglog(newejex2, newejey2,'+',label='Others')\n",
    "print(newejex2, newejey2)\n",
    "plt.loglog(x1, x1,'g')\n",
    "plt.title('Plot of Energy density over distance square against Edot over distance square')\n",
    "plt.ylabel('energy/d2')\n",
    "plt.xlabel('Edot/d2')\n",
    "\n",
    "plt.legend(loc='best', fontsize=14)\n",
    "\n",
    "plt.grid(True)\n",
    "plt.show()\n",
    "newejeynorm = np.concatenate([newejey1, newejey2])\n",
    "\n",
    "newejexnorm = np.concatenate([newejex1, newejex2])\n",
    "datax = np.concatenate([newejex1,newejex2])\n",
    "datay = np.concatenate([newejey1,newejey2])\n",
    "\n",
    "print('The correlation matrix is: \\n', np.corrcoef(datax, datay))\n",
    "o = 0\n",
    "for u in range(0,len(datax)):\n",
    "    if not u in known:\n",
    "        print(u, names[u],newejexnorm[u], newejeynorm[u], Edot[u], distance[u])\n",
    "        o += 1\n",
    "\n",
    "print(known)\n",
    "print(len(names))\n",
    "print(datax)\n",
    "print(datay)"
   ]
  },
  {
   "cell_type": "code",
   "execution_count": 7,
   "metadata": {},
   "outputs": [
    {
     "name": "stdout",
     "output_type": "stream",
     "text": [
      "[False  True False  True False False  True False False False  True  True\n",
      " False False  True  True  True  True  True  True False]\n",
      "[2.62984878e-06 2.14030916e-03 2.09162330e-06 1.00000000e+00\n",
      " 5.55555556e-05 7.80532599e-03 2.89745528e-04 5.39791398e-04\n",
      " 6.14540466e-07 4.26666667e-03 2.17687075e-03 2.40591226e-04\n",
      " 1.67739230e-06 9.54861111e-08 2.26002630e-02 1.79787164e-02\n",
      " 1.76331857e-03 5.76855614e-03 2.34375000e-02 2.25340778e-02\n",
      " 3.49161902e-09]\n",
      "[1.80412343e-04 1.29523386e-02 6.45524455e-06 1.00000000e+00\n",
      " 9.27221198e-05 1.01369359e-02 3.64195579e-04 4.31867527e-04\n",
      " 2.78287637e-07 1.60862303e-03 7.82841789e-04 6.77794293e-05\n",
      " 4.71308370e-07 1.48135648e-08 3.18216043e-03 1.91735946e-03\n",
      " 8.23564619e-05 4.73906412e-04 2.10357942e-03 1.49325284e-03\n",
      " 2.52408518e-10]\n"
     ]
    }
   ],
   "source": [
    "\n",
    "##################################### PULSARS WITH CHARACTERISTIC AGE < 7 KYR ####################################\n",
    "import matplotlib.pyplot as plt\n",
    "import matplotlib.mlab as mlab\n",
    "import numpy as np\n",
    "#from scipy.stats import norm\n",
    "\n",
    "#import plotly.plotly as py\n",
    "#import plotly.tools as tls\n",
    "\n",
    "\n",
    "discovered = ['J1808-2024', 'J1714-3810', 'J1550-5418', 'J1513-5908', 'J0540-6919', 'J1050-5953', 'J1124-5916', \n",
    "            'J1745-2900', 'J1841-0456', 'J0100-7211']\n",
    "# In fact, those are the undiscovered ones, so inside the loop if the name is not in this, then is discovered\n",
    "\n",
    "truth = np.zeros(len(names), dtype=bool)\n",
    "for i in range(0,len(names)):\n",
    "    if not names[i] in discovered:\n",
    "        truth[i] = True\n",
    "print(truth)\n",
    "\n",
    "# Data for the axis\n",
    "numbers = range(0,len(names))\n",
    "axisy = np.zeros(len(names))\n",
    "axisx = np.zeros(len(names))\n",
    "for i in numbers:\n",
    "    axisx[i] = Edot[i]/distance[i]**2\n",
    "    axisy[i] = epsilon2[i]\n",
    "\n",
    "\n",
    "# NORMALISED PLOT \n",
    "maxy = max(axisy)\n",
    "maxx = max(axisx)\n",
    "\n",
    "\n",
    "newaxisx = np.zeros(len(axisx))\n",
    "newaxisy = np.zeros(len(axisy))\n",
    "\n",
    "for j in numbers:\n",
    "    newaxisx[j] = axisx[j]/maxx\n",
    "    newaxisy[j] = axisy[j]/maxy\n",
    "\n",
    "print(newaxisx)\n",
    "print(newaxisy)"
   ]
  },
  {
   "cell_type": "code",
   "execution_count": 14,
   "metadata": {
    "scrolled": false
   },
   "outputs": [
    {
     "name": "stdout",
     "output_type": "stream",
     "text": [
      "[False False False False False False False False  True False False False\n",
      "  True  True False False False False False False  True]\n",
      "6\n",
      "The yellow ones are not firmly identified, we dont know if they are from the pulsar or the supernova remmant.\n",
      " The ones below 10**-6 have not been detected yet. It would be interesting to plot them in another color\n",
      "The correlation matrix is: \n",
      " [[1.         0.99925357]\n",
      " [0.99925357 1.        ]]\n",
      "['J1808-2024' 'J1714-3810' 'J1550-5418' 'J1513-5908' 'J0540-6919'\n",
      " 'J1124-5916']\n",
      "[ True False  True False  True  True False  True False  True False False\n",
      " False False False False False False False False False]\n",
      "[1.80412343e-04 1.29523386e-02 6.45524455e-06 1.00000000e+00\n",
      " 9.27221198e-05 1.01369359e-02 3.64195579e-04 4.31867527e-04\n",
      " 2.78287637e-07 1.60862303e-03 7.82841789e-04 6.77794293e-05\n",
      " 4.71308370e-07 1.48135648e-08 3.18216043e-03 1.91735946e-03\n",
      " 8.23564619e-05 4.73906412e-04 2.10357942e-03 1.49325284e-03\n",
      " 2.52408518e-10]\n",
      "['J1808-2024' 'J1846-0258' 'J1714-3810' 'J0534+2200' 'J1550-5418'\n",
      " 'J1513-5908' 'J1119-6127' 'J0540-6919' 'J1050-5953' 'J1124-5916'\n",
      " 'J1930+1852' 'J1640-4631' 'J1745-2900' 'J1841-0456' 'J1023-5746'\n",
      " 'J1833-1034' 'J0537-6910' 'J1747-2809' 'J0205+6449' 'J1813-1749'\n",
      " 'J0100-7211']\n"
     ]
    },
    {
     "data": {
      "image/png": "[encoded data removed]",
      "text/plain": [
       "<Figure size 720x432 with 1 Axes>"
      ]
     },
     "metadata": {
      "needs_background": "light"
     },
     "output_type": "display_data"
    }
   ],
   "source": [
    "#newaxisy = newaxisy.tolist()\n",
    "mask1 = newaxisy < 10**(-6)\n",
    "print(mask1)\n",
    "littleones = newaxisy[mask1]\n",
    "#print(littleones[0],np.shape(newaxisy))\n",
    "# We obtain the index of the values in littleones array\n",
    "#index1 = newaxisy.index(littleones[0])\n",
    "#index1 = np.where(newaxisy == littleones[0])\n",
    "#print(index1[0],np.shape(index1))\n",
    "#index2 = newaxisy.index(littleones[1])\n",
    "#index3 = newaxisy.index(littleones[2])\n",
    "#print(len(littleones))\n",
    "\n",
    "masktmp = np.logical_not(mask1) * np.logical_not(truth)\n",
    "print(sum(masktmp))\n",
    "\n",
    "x2 = np.linspace(10**(-9),1,50)\n",
    "plt.rcParams['figure.figsize'] = (10, 6)\n",
    "#plt.loglog(ejey, ejex,'*')\n",
    "plt.loglog(newaxisx[truth], newaxisy[truth],'b*',label='Pulsars with TeV PWN')\n",
    "plt.loglog(newaxisx[mask1], newaxisy[mask1],'g^',label='Not TeV detected')\n",
    "plt.loglog(newaxisx[masktmp], newaxisy[masktmp],'r+',label='Other TeV detections')\n",
    "plt.loglog(newaxisx[mask1], newaxisy[mask1],'g^')\n",
    "plt.loglog(newaxisx[7], newaxisy[7],'g^')\n",
    "\n",
    "plt.loglog(x2, x2,'k',linewidth = 0.5, label='SL slope = 1')\n",
    "#plt.title('Plot of Energy density ($\\epsilon$) divided by distance square, normalised, against the spin down \\n' \n",
    "#          'luminosity ($\\dot{E}$) over distance square, normalised again for pulsars with ' r'$\\tau < 7 $ kyr.')\n",
    "plt.ylabel(r'$\\varepsilon/d^2$ (Crab units)', fontsize=14)\n",
    "plt.xlabel(r'$\\dot{E}/d^2$ (Crab units)',fontsize=14)\n",
    "\n",
    "plt.legend(loc='best', fontsize=14)\n",
    "plt.xlim(10**(-10),2)\n",
    "plt.ylim(10**(-10),2)\n",
    "\n",
    "plt.grid(True)\n",
    "\n",
    "# CHANGE INDEX 3 TO GREEN (^)\n",
    "\n",
    "#figtst = plt.gcf()\n",
    "#plt.show()\n",
    "#plt.draw()\n",
    "#figtst.savefig(\"pulsars_Energy_distancesq2.png\",bbox_inches='tight')\n",
    "#plt.savefig(\"e_against_d2goodone.png\")\n",
    "print('The yellow ones are not firmly identified, we dont know if they are from the pulsar or the supernova remmant.' \n",
    "      '\\n The ones below 10**-6 have not been detected yet. It would be interesting to plot them in another color')\n",
    "\n",
    "print('The correlation matrix is: \\n', np.corrcoef(newaxisx, newaxisy))\n",
    "print(names[masktmp])\n",
    "print(masktmp)\n",
    "print(newaxisy)\n",
    "print(names)"
   ]
  },
  {
   "cell_type": "code",
   "execution_count": 11,
   "metadata": {},
   "outputs": [
    {
     "name": "stdout",
     "output_type": "stream",
     "text": [
      "['J1808-2024' 'J1714-3810' 'J1550-5418' 'J1513-5908' 'J0540-6919'\n",
      " 'J1124-5916']\n",
      "[1.80412343e-04 6.45524455e-06 9.27221198e-05 1.01369359e-02\n",
      " 4.31867527e-04 1.60862303e-03]\n",
      "[2.62984878e-06 2.09162330e-06 5.55555556e-05 7.80532599e-03\n",
      " 5.39791398e-04 4.26666667e-03]\n"
     ]
    }
   ],
   "source": [
    "# Possible tev detected\n",
    "print(names[masktmp])\n",
    "print(newaxisy[masktmp])\n",
    "print(newaxisx[masktmp])\n",
    "\n",
    "possible_tev_detectedNAMES=['J1513-5908','J1124-5916','J1841-0456','J1808-2024','J1550-5418','J1714-3810']  \n",
    "possible_tev_detectedX=[7.80532599e-03,4.26666667e-03,9.54861111e-08,2.62984878e-06,5.55555556e-05,2.09162330e-06] \n",
    "possible_tev_detectedY=[1.01369359e-02,1.60862303e-03,1.48135648e-08,1.80412343e-04,9.27221198e-05,6.45524455e-06]  "
   ]
  },
  {
   "cell_type": "code",
   "execution_count": 12,
   "metadata": {},
   "outputs": [
    {
     "name": "stdout",
     "output_type": "stream",
     "text": [
      "['J1050-5953' 'J1745-2900' 'J1841-0456' 'J0100-7211']\n",
      "[2.78287637e-07 4.71308370e-07 1.48135648e-08 2.52408518e-10]\n",
      "[6.14540466e-07 1.67739230e-06 9.54861111e-08 3.49161902e-09]\n"
     ]
    }
   ],
   "source": [
    "# not tev detected\n",
    "print(names[mask1])\n",
    "print(newaxisy[mask1])\n",
    "print(newaxisx[mask1])\n",
    "not_tev_detectedNAMES=['J1745-2900','J0540-6919','J0100-7211','J1050-5953']\n",
    "not_tev_detectedX=[1.67739230e-06,5.39791398e-04 ,3.49161902e-09,6.14540466e-07]\n",
    "not_tev_detectedY=[4.71308370e-07,4.31867527e-04 ,2.52408518e-10,2.78287637e-07]"
   ]
  },
  {
   "cell_type": "code",
   "execution_count": 21,
   "metadata": {},
   "outputs": [
    {
     "name": "stdout",
     "output_type": "stream",
     "text": [
      "6\n",
      "The correlation matrix is: \n",
      " [[1.         0.99925357]\n",
      " [0.99925357 1.        ]]\n",
      "['J1808-2024' 'J1714-3810' 'J1550-5418' 'J1513-5908' 'J0540-6919'\n",
      " 'J1124-5916']\n",
      "[ True False  True False  True  True False  True False  True False False\n",
      " False False False False False False False False False]\n",
      "[1.80412343e-04 1.29523386e-02 6.45524455e-06 1.00000000e+00\n",
      " 9.27221198e-05 1.01369359e-02 3.64195579e-04 4.31867527e-04\n",
      " 2.78287637e-07 1.60862303e-03 7.82841789e-04 6.77794293e-05\n",
      " 4.71308370e-07 1.48135648e-08 3.18216043e-03 1.91735946e-03\n",
      " 8.23564619e-05 4.73906412e-04 2.10357942e-03 1.49325284e-03\n",
      " 2.52408518e-10]\n",
      "['J1808-2024' 'J1846-0258' 'J1714-3810' 'J0534+2200' 'J1550-5418'\n",
      " 'J1513-5908' 'J1119-6127' 'J0540-6919' 'J1050-5953' 'J1124-5916'\n",
      " 'J1930+1852' 'J1640-4631' 'J1745-2900' 'J1841-0456' 'J1023-5746'\n",
      " 'J1833-1034' 'J0537-6910' 'J1747-2809' 'J0205+6449' 'J1813-1749'\n",
      " 'J0100-7211']\n"
     ]
    },
    {
     "data": {
      "image/png": "[encoded data removed]",
      "text/plain": [
       "<Figure size 720x432 with 1 Axes>"
      ]
     },
     "metadata": {
      "needs_background": "light"
     },
     "output_type": "display_data"
    }
   ],
   "source": [
    "# With the three subsamples, we now obtain the final plot\n",
    "mask1 = newaxisy < 10**(-6)\n",
    "littleones = newaxisy[mask1]\n",
    "newmask1=['J1050-5953','J1745-2900','J1841-0456','J0100-7211']\n",
    "masktmp = np.logical_not(mask1) * np.logical_not(truth)\n",
    "print(sum(masktmp))\n",
    "\n",
    "x2 = np.linspace(10**(-9),1,50)\n",
    "plt.rcParams['figure.figsize'] = (10, 6)\n",
    "#plt.loglog(ejey, ejex,'*')\n",
    "plt.loglog(newaxisx[truth], newaxisy[truth],'b*',label='Pulsars with TeV PWN')\n",
    "plt.loglog(not_tev_detectedX, not_tev_detectedY,'g^',label='Not TeV detected')\n",
    "plt.loglog(possible_tev_detectedX, possible_tev_detectedY,'r+',label='Other TeV detections')\n",
    "\n",
    "plt.loglog(x2, x2,'k',linewidth = 0.5, label=r'$\\varepsilon/d^2 = \\dot{E}/d^2$')\n",
    "plt.ylabel(r'$\\varepsilon/d^2$ (Crab units)', fontsize=18)\n",
    "plt.xlabel(r'$\\dot{E}/d^2$ (Crab units)',fontsize=18)\n",
    "\n",
    "plt.legend(loc='best', fontsize=14)\n",
    "plt.xlim(10**(-10),2)\n",
    "plt.ylim(10**(-10),2)\n",
    "\n",
    "plt.text(0.4,0.2,'Crab',color='blue',fontsize=14)\n",
    "\n",
    "plt.grid(True)\n",
    "\n",
    "plt.savefig(\"energydensity7kyr.png\")\n",
    "print('The correlation matrix is: \\n', np.corrcoef(newaxisx, newaxisy))\n",
    "print(names[masktmp])\n",
    "print(masktmp)\n",
    "print(newaxisy)\n",
    "print(names)"
   ]
  },
  {
   "cell_type": "code",
   "execution_count": 16,
   "metadata": {},
   "outputs": [
    {
     "name": "stdout",
     "output_type": "stream",
     "text": [
      "[1.29523386e-02 1.00000000e+00 3.64195579e-04 7.82841789e-04\n",
      " 6.77794293e-05 3.18216043e-03 1.91735946e-03 8.23564619e-05\n",
      " 4.73906412e-04 2.10357942e-03 1.49325284e-03] \n",
      "\n",
      "['J1846-0258' 'J0534+2200' 'J1119-6127' 'J1930+1852' 'J1640-4631'\n",
      " 'J1023-5746' 'J1833-1034' 'J0537-6910' 'J1747-2809' 'J0205+6449'\n",
      " 'J1813-1749']\n",
      "\n",
      "\n",
      "['J1808-2024' 'J1846-0258' 'J1714-3810' 'J0534+2200' 'J1550-5418'\n",
      " 'J1513-5908' 'J1119-6127' 'J0540-6919' 'J1050-5953' 'J1124-5916'\n",
      " 'J1930+1852' 'J1640-4631' 'J1745-2900' 'J1841-0456' 'J1023-5746'\n",
      " 'J1833-1034' 'J0537-6910' 'J1747-2809' 'J0205+6449' 'J1813-1749'\n",
      " 'J0100-7211']\n",
      "21 11 6 4\n"
     ]
    }
   ],
   "source": [
    "print(newaxisy[truth],'\\n')\n",
    "print(names[truth]) # 1, 3, 5, 6, 10, 15, 16 17 18 19\n",
    "print('\\n')\n",
    "print(names)\n",
    "print(len(names), len(names[truth]), len(names[masktmp]), len(names[mask1]))"
   ]
  },
  {
   "cell_type": "code",
   "execution_count": 17,
   "metadata": {},
   "outputs": [
    {
     "name": "stdout",
     "output_type": "stream",
     "text": [
      "J1846-0258 -1.8876518100445039 -2.669523490694606\n",
      "J0534+2200 0.0 0.0\n",
      "J1119-6127 -3.4386653300733516 -3.5379832585535516\n",
      "J1930+1852 -3.1063259991840453 -2.66216735642827\n",
      "J1640-4631 -4.16890209253718 -3.6187202155011415\n",
      "J1023-5746 -2.4972779288220224 -1.6458865072146793\n",
      "J1833-1034 -2.7172964589961706 -1.7452413188445972\n",
      "J0537-6910 -4.0843023193081605 -2.753669219885532\n",
      "J1747-2809 -3.3243074151440357 -2.238932876646197\n",
      "J0205+6449 -2.677041085751199 -1.630088714928206\n",
      "J1813-1749 -2.8258666507167773 -1.6471602113126158\n"
     ]
    }
   ],
   "source": [
    "for i in range(len(names[truth])):\n",
    "    #print(names[truth][i], newaxisx[truth][i], newaxisy[truth][i])\n",
    "    print(names[truth][i], np.log10(newaxisy[truth][i]), np.log10(newaxisx[truth][i]))"
   ]
  },
  {
   "cell_type": "code",
   "execution_count": 37,
   "metadata": {},
   "outputs": [
    {
     "name": "stdout",
     "output_type": "stream",
     "text": [
      "['J1050-5953' 'J1745-2900' 'J1841-0456' 'J0100-7211']\n",
      "[2.78287637e-07 4.71308370e-07 1.48135648e-08 2.52408518e-10]\n",
      "[6.14540466e-07 1.67739230e-06 9.54861111e-08 3.49161902e-09]\n",
      "\n",
      " J0540-6919 0.00043186752698020725\n"
     ]
    }
   ],
   "source": [
    "print(names[mask1])\n",
    "print(newaxisy[mask1])\n",
    "print(newaxisx[mask1])\n",
    "print('\\n', names[7], newaxisy[7])"
   ]
  },
  {
   "cell_type": "code",
   "execution_count": 18,
   "metadata": {},
   "outputs": [
    {
     "name": "stdout",
     "output_type": "stream",
     "text": [
      "['J1050-5953' 'J1745-2900' 'J1841-0456' 'J0100-7211']\n",
      "[1.00000142 1.00000386 1.00000022 1.00000001]\n",
      "[1.80412343e-04 6.45524455e-06 9.27221198e-05 1.01369359e-02\n",
      " 4.31867527e-04 2.78287637e-07 1.60862303e-03 4.71308370e-07\n",
      " 1.48135648e-08 2.52408518e-10] ['J1808-2024' 'J1714-3810' 'J1550-5418' 'J1513-5908' 'J0540-6919'\n",
      " 'J1050-5953' 'J1124-5916' 'J1745-2900' 'J1841-0456' 'J0100-7211']\n"
     ]
    }
   ],
   "source": [
    "print(names[mask1])\n",
    "print(10**newaxisx[mask1])\n",
    "print(newaxisy[np.logical_not(truth)],names[np.logical_not(truth)])"
   ]
  },
  {
   "cell_type": "code",
   "execution_count": 19,
   "metadata": {},
   "outputs": [
    {
     "name": "stdout",
     "output_type": "stream",
     "text": [
      "['J1808-2024' 'J1714-3810' 'J1550-5418' 'J1513-5908' 'J0540-6919'\n",
      " 'J1124-5916']\n",
      "[1.80412343e-04 6.45524455e-06 9.27221198e-05 1.01369359e-02\n",
      " 4.31867527e-04 1.60862303e-03]\n"
     ]
    }
   ],
   "source": [
    "print(names[masktmp])\n",
    "print(newaxisy[masktmp])"
   ]
  },
  {
   "cell_type": "code",
   "execution_count": 22,
   "metadata": {},
   "outputs": [
    {
     "name": "stdout",
     "output_type": "stream",
     "text": [
      "['J1846-0258' 'J0534+2200' 'J1119-6127' 'J1930+1852' 'J1640-4631'\n",
      " 'J1023-5746' 'J1833-1034' 'J0537-6910' 'J1747-2809' 'J0205+6449'\n",
      " 'J1813-1749']\n",
      "\n",
      "\n",
      "[2.14030916e-03 1.00000000e+00 2.89745528e-04 2.17687075e-03\n",
      " 2.40591226e-04 2.26002630e-02 1.79787164e-02 1.76331857e-03\n",
      " 5.76855614e-03 2.34375000e-02 2.25340778e-02]\n",
      "\n",
      "\n",
      "[1.29523386e-02 1.00000000e+00 3.64195579e-04 7.82841789e-04\n",
      " 6.77794293e-05 3.18216043e-03 1.91735946e-03 8.23564619e-05\n",
      " 4.73906412e-04 2.10357942e-03 1.49325284e-03]\n"
     ]
    }
   ],
   "source": [
    "print(names[truth])\n",
    "print('\\n')\n",
    "print(newaxisx[truth])\n",
    "print('\\n')\n",
    "print(newaxisy[truth])"
   ]
  },
  {
   "cell_type": "code",
   "execution_count": 23,
   "metadata": {},
   "outputs": [
    {
     "data": {
      "text/plain": [
       "array([3.49161902e-09, 9.54861111e-08, 6.14540466e-07, 1.67739230e-06,\n",
       "       2.09162330e-06, 2.62984878e-06, 5.55555556e-05, 2.40591226e-04,\n",
       "       2.89745528e-04, 5.39791398e-04, 1.76331857e-03, 2.14030916e-03,\n",
       "       2.17687075e-03, 4.26666667e-03, 5.76855614e-03, 7.80532599e-03,\n",
       "       1.79787164e-02, 2.25340778e-02, 2.26002630e-02, 2.34375000e-02,\n",
       "       1.00000000e+00])"
      ]
     },
     "execution_count": 23,
     "metadata": {},
     "output_type": "execute_result"
    }
   ],
   "source": [
    "np.sort(newaxisx)"
   ]
  },
  {
   "cell_type": "code",
   "execution_count": 24,
   "metadata": {},
   "outputs": [
    {
     "name": "stdout",
     "output_type": "stream",
     "text": [
      "['J1808-2024' 'J1846-0258' 'J1714-3810' 'J0534+2200' 'J1550-5418'\n",
      " 'J1513-5908' 'J1119-6127' 'J0540-6919' 'J1050-5953' 'J1124-5916'\n",
      " 'J1930+1852' 'J1640-4631' 'J1745-2900' 'J1841-0456' 'J1023-5746'\n",
      " 'J1833-1034' 'J0537-6910' 'J1747-2809' 'J0205+6449' 'J1813-1749'\n",
      " 'J0100-7211']\n",
      "['J1846-0258' 'J0534+2200' 'J1119-6127' 'J1930+1852' 'J1640-4631'\n",
      " 'J1023-5746' 'J1833-1034' 'J0537-6910' 'J1747-2809' 'J0205+6449'\n",
      " 'J1813-1749']\n",
      "['J1808-2024' 'J1714-3810' 'J1550-5418' 'J1513-5908' 'J0540-6919'\n",
      " 'J1124-5916']\n",
      "['J1050-5953' 'J1745-2900' 'J1841-0456' 'J0100-7211']\n"
     ]
    }
   ],
   "source": [
    "print(names)\n",
    "print(names[truth])\n",
    "print(names[masktmp])\n",
    "print(names[mask1])"
   ]
  },
  {
   "cell_type": "code",
   "execution_count": 20,
   "metadata": {},
   "outputs": [
    {
     "name": "stdout",
     "output_type": "stream",
     "text": [
      "[2.75292075 3.71577657 2.40652863 1.52360982 1.69758666 1.25256532\n",
      " 1.61065797 1.44697545 1.63204564]\n",
      "[1.6, 3.6, 0.0, -1.2, 0.9, -0.7, 2.1, 2.3, 2.4]\n",
      "The correlation matrix is: \n",
      " [[1.         0.50754515]\n",
      " [0.50754515 1.        ]]\n"
     ]
    },
    {
     "data": {
      "image/png": "[encoded data removed]",
      "text/plain": [
       "<Figure size 720x432 with 1 Axes>"
      ]
     },
     "metadata": {
      "needs_background": "light"
     },
     "output_type": "display_data"
    }
   ],
   "source": [
    "################################ PLOT ENERGY DENSITY against THEORETICAL ONE ############################\n",
    "# The calculated is epsilon, but we only want the ones that appear in Table\n",
    "#energycalc = [epsilon2[1], epsilon2[3], epsilon2[5], epsilon2[6], epsilon2[10], epsilon2[14], epsilon2[17], epsilon2[18],epsilon2[19]]\n",
    "energycalc = [epsilon[1], epsilon[3], epsilon[5], epsilon[6], epsilon[10], epsilon[14], epsilon[17], epsilon[18],epsilon[19]]\n",
    "\n",
    "# Convert it into logarithm\n",
    "energycalc = np.log10(energycalc)\n",
    "energyexp = [1.6, 3.6, 0.0, -1.2, 0.9, -0.7, 2.1, 2.3, 2.4]\n",
    "\n",
    "print(energycalc)\n",
    "print(energyexp)\n",
    "x3 = np.linspace(-1,4,50)\n",
    "\n",
    "plt.rcParams['figure.figsize'] = (10, 6)\n",
    "#plt.loglog(ejey, ejex,'*')\n",
    "plt.plot(energycalc, energyexp,'*')\n",
    "plt.plot(x3, x3,'k',linewidth = 0.5)\n",
    "plt.title('Logarithm of Energy density over square distance obtained against the experimental ones')\n",
    "plt.ylabel(r'$\\log{\\varepsilon_{exp}}$', fontsize=14)\n",
    "plt.xlabel(r'$ \\log{\\varepsilon_{c}}$',fontsize=14)\n",
    "\n",
    "plt.grid(True)\n",
    "\n",
    "#plt.savefig(\"energydensity_compared2\")\n",
    "\n",
    "print('The correlation matrix is: \\n', np.corrcoef(energycalc, energyexp))"
   ]
  },
  {
   "cell_type": "code",
   "execution_count": 26,
   "metadata": {},
   "outputs": [
    {
     "name": "stdout",
     "output_type": "stream",
     "text": [
      "[ 0.98474988  2.25115301  0.65406998 -0.24612824 -0.05052676 -0.48358027\n",
      " -0.01310771 -0.22703714  0.05304059]\n",
      "[1.6, 3.6, 0.0, -1.2, 0.9, -0.7, 2.1, 2.3, 2.4]\n",
      "The correlation matrix is: \n",
      " [[1.         0.57517392]\n",
      " [0.57517392 1.        ]]\n"
     ]
    },
    {
     "data": {
      "image/png": "[encoded data removed]",
      "text/plain": [
       "<Figure size 720x432 with 1 Axes>"
      ]
     },
     "metadata": {
      "needs_background": "light"
     },
     "output_type": "display_data"
    }
   ],
   "source": []
  },
  {
   "cell_type": "code",
   "execution_count": 29,
   "metadata": {},
   "outputs": [
    {
     "name": "stdout",
     "output_type": "stream",
     "text": [
      "J1833-1034 is number 15\n",
      "J1813-1749 is number 19\n",
      "J1930+1852 is number 10\n",
      "J1846-0258 is number 1\n",
      "J1513-5908, named J1514-591 too, is number 5\n",
      "J1119-6127 is number 6\n",
      "J0537-6910 (N157B) is number 16\n",
      "J0534-3810 (Crab Nebula) is number 3\n",
      "J1747-2809 (G0.9+0.1) is number 17\n",
      "J0205+6449 (3C 58) is number 18\n",
      "['J1808-2024' 'J1846-0258' 'J1714-3810' 'J0534+2200' 'J1550-5418'\n",
      " 'J1513-5908' 'J1119-6127' 'J0540-6919' 'J1050-5953' 'J1124-5916'\n",
      " 'J1930+1852' 'J1640-4631' 'J1745-2900' 'J1841-0456' 'J1023-5746'\n",
      " 'J1833-1034' 'J0537-6910' 'J1747-2809' 'J0205+6449' 'J1813-1749'\n",
      " 'J0100-7211']\n"
     ]
    }
   ],
   "source": [
    "#print('Comparing values, number 15 is J1833-1034 because their values obtained are: \\n', LogE[15], Logep[15], tau[15], distance[15])\n",
    "#print('LogE, Log energy density, tau_c, distance, respectively')\n",
    "print('J1833-1034 is number 15') \n",
    "print('J1813-1749 is number 19')\n",
    "print('J1930+1852 is number 10')\n",
    "print('J1846-0258 is number 1')\n",
    "print('J1513-5908, named J1514-591 too, is number 5')\n",
    "print('J1119-6127 is number 6')\n",
    "print('J0537-6910 (N157B) is number 16')\n",
    "print('J0534-3810 (Crab Nebula) is number 3')\n",
    "print('J1747-2809 (G0.9+0.1) is number 17')\n",
    "print('J0205+6449 (3C 58) is number 18') \n",
    "# NUMBER 14 IS THERE TOO\n",
    "print(names)"
   ]
  }
 ],
 "metadata": {
  "kernelspec": {
   "display_name": "Python 3",
   "language": "python",
   "name": "python3"
  },
  "language_info": {
   "codemirror_mode": {
    "name": "ipython",
    "version": 3
   },
   "file_extension": ".py",
   "mimetype": "text/x-python",
   "name": "python",
   "nbconvert_exporter": "python",
   "pygments_lexer": "ipython3",
   "version": "3.8.1"
  }
 },
 "nbformat": 4,
 "nbformat_minor": 2
}
